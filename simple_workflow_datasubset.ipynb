{
 "cells": [
  {
   "cell_type": "code",
   "execution_count": 1,
   "metadata": {},
   "outputs": [],
   "source": [
    "%load_ext autoreload\n",
    "%autoreload 2"
   ]
  },
  {
   "cell_type": "code",
   "execution_count": 2,
   "metadata": {},
   "outputs": [],
   "source": [
    "%matplotlib inline\n",
    "import matplotlib.pyplot as plt"
   ]
  },
  {
   "cell_type": "code",
   "execution_count": 6,
   "metadata": {},
   "outputs": [],
   "source": [
    "import pandas as pd\n",
    "import numpy as np\n",
    "import os"
   ]
  },
  {
   "cell_type": "code",
   "execution_count": 4,
   "metadata": {},
   "outputs": [],
   "source": [
    "# Some linux distributions of MKL and MP libraries will run operations multithreaded \n",
    "# under the hood. os.environ sets linux environmental variables that control this \n",
    "# behavior. Here we're limiting these libraries to using at most 2 threads (vs default ncpu)\n",
    "# This way we can more predictably control system usage with python multiprocessing\n",
    "\n",
    "# If you notice weird use of many mores than expected consider setting some of these environmental \n",
    "# variable. We can also consider setting them on a system wide level.\n",
    "os.environ['MKL_NUM_THREADS'] = '1'\n",
    "os.environ['GOTO_NUM_THREADS'] = '1'\n",
    "os.environ['OMP_NUM_THREADS'] = '1'"
   ]
  },
  {
   "cell_type": "markdown",
   "metadata": {},
   "source": [
    "This notebook assumes that you have a dataset with:\n",
    "    1. Already deconvolved images\n",
    "    2. Already found beads (will include a section about bead finding since it is an area for improvement)"
   ]
  },
  {
   "cell_type": "code",
   "execution_count": 14,
   "metadata": {},
   "outputs": [],
   "source": [
    "# Load configuration for spot_calling\n",
    "from seqfish_config import *\n",
    "\n",
    "# Importing codebook (bunch of config options are setup in seqfish_config.py)\n",
    "# WARNING - this file needs to vary in an experiment/microscopy specific fashion.\n",
    "gids, cwords = zip(*cbook_dict.items())\n",
    "bids, blanks = zip(*blank_dict.items())\n",
    "genes = gids\n",
    "cvectors = np.stack(cwords, axis=0)\n",
    "cvectors.shape\n",
    "nvectors = normalize(cvectors)\n",
    "\n",
    "md_pth = '/scratch/hRedux_less_subset'\n",
    "md = Metadata(md_pth)\n",
    "posnames = md.posnames\n"
   ]
  },
  {
   "cell_type": "code",
   "execution_count": 101,
   "metadata": {},
   "outputs": [],
   "source": [
    "# Import custom libraries\n",
    "from metadata import *\n",
    "from codestack_creation import *\n",
    "from registration import *\n",
    "from wrappers import *\n",
    "\n"
   ]
  },
  {
   "cell_type": "code",
   "execution_count": 22,
   "metadata": {},
   "outputs": [],
   "source": [
    "from skimage.external.tifffile import TiffWriter\n",
    "import subprocess\n",
    "from shlex import split\n",
    "from skimage import img_as_uint\n",
    "\n",
    "def stkshow(images, fname='/home/rfor10/Downloads/tmp-stk.tif'):\n",
    "    with TiffWriter(fname, bigtiff=False, imagej=True) as t:\n",
    "        if len(images.shape)>2:\n",
    "            for i in range(images.shape[2]):\n",
    "                t.save(images[:,:,i].astype('uint16'))\n",
    "        else:\n",
    "            t.save(images.astype('uint16'))\n",
    "#     java_cmd = [\"java\", \"-Xmx5120m\", \"-jar\", \"/Users/robertf/ImageJ/ImageJ.app/Contents/Resources/Java/ij.jar\"]\n",
    "#     image_j_args = [\"-ijpath\", \"/Users/robertf/ImageJ/\", fname]\n",
    "#     subprocess.Popen(java_cmd+image_j_args, shell=False,stdin=None,stdout=None,stderr=None,close_fds=True)"
   ]
  },
  {
   "cell_type": "code",
   "execution_count": 89,
   "metadata": {},
   "outputs": [],
   "source": [
    "\n",
    "bead_pth = '/bigstore/Images2018/Robert/ca_celltypes/hybe_mcf10a_serumTitration_redux_deux_less_dense_cells_2018Jun18_2018Jun21/hdf3/'\n",
    "tforms_xyy, tforms_zz, master_beadss = load_beads_find_tforms(bead_pth)"
   ]
  },
  {
   "cell_type": "code",
   "execution_count": 56,
   "metadata": {},
   "outputs": [],
   "source": [
    "from collections import Counter"
   ]
  },
  {
   "cell_type": "code",
   "execution_count": 98,
   "metadata": {},
   "outputs": [],
   "source": [
    "tforms_xy = defaultdict(list)\n",
    "tforms_z = defaultdict(list)\n",
    "tforms_z_raw = defaultdict(list)\n",
    "# Iterate over all beads found in all hybes and fit gaussians then\n",
    "# find the shift between the reference and nonreference\n",
    "for k, hybe_dict in master_beads[p].items():\n",
    "    #if str(k) in ref_substks:\n",
    "        #sstk = ref_substks[str(k)]\n",
    "        #ref_fit = gaussfitter.gaussfit(sstk[:,:,3])\n",
    "    ref_fit = (k[0], k[1])\n",
    "        #print(ref_fit)\n",
    "    for h, dest_bead in hybe_dict.items():\n",
    "            #if str(tuple(dest_bead)) in destination_substks[h]:\n",
    "        try:\n",
    "                #sstk = destination_substks[h][str(tuple(dest_bead))]\n",
    "                #dest_fit = gaussfitter.gaussfit(sstk[:,:,3])\n",
    "                #dest_fit = (dest_bead[0]+dest_fit[2]-3, dest_bead[1]+dest_fit[3]-3)\n",
    "            dest_fit = (dest_bead[0], dest_bead[1])\n",
    "            tforms_xy[h].append(np.subtract(ref_fit, dest_fit))\n",
    "            tforms_z[h].append((k[2], np.subtract(k[2], dest_bead[2])))\n",
    "            tforms_z_raw[h].append((k[2], dest_bead[2]))\n",
    "        except:\n",
    "            continue"
   ]
  },
  {
   "cell_type": "code",
   "execution_count": 105,
   "metadata": {},
   "outputs": [
    {
     "data": {
      "text/plain": [
       "{12: (6, 3.3855721393034828),\n",
       " 14: (4, 4.052238805970149),\n",
       " 16: (8, 4.677238805970149),\n",
       " 17: (11, 4.915875169606513),\n",
       " 13: (6, 3.5522388059701493),\n",
       " 8: (4, 4.302238805970149),\n",
       " 18: (6, 4.218905472636816),\n",
       " 11: (4, 3.5522388059701493),\n",
       " 10: (5, 3.1522388059701494),\n",
       " 1: (1, 4.552238805970149),\n",
       " 9: (6, 3.8855721393034823),\n",
       " 5: (1, 4.552238805970149),\n",
       " 6: (2, 4.552238805970149),\n",
       " 7: (1, 5.552238805970149),\n",
       " 2: (1, 3.5522388059701493),\n",
       " 3: (1, 4.552238805970149)}"
      ]
     },
     "execution_count": 105,
     "metadata": {},
     "output_type": "execute_result"
    }
   ],
   "source": [
    "h = 'hybe6'\n",
    "dzdict = defaultdict(list)\n",
    "for z, dz in tforms_z[h]:\n",
    "    dzdict[z].append(dz)\n",
    "dzdict = {k:(len(v), np.mean(v)+np.mean(tforms_z[h])) for k,v in dzdict.items()}\n",
    "dzdict"
   ]
  },
  {
   "cell_type": "code",
   "execution_count": 118,
   "metadata": {},
   "outputs": [
    {
     "name": "stdout",
     "output_type": "stream",
     "text": [
      "[13, 14, 15]\n",
      "opening img_BL_site46_5_2_000000015_000000000_DeepBlue_000_015.tif[14, 15, 16]\n",
      "opening img_BL_site46_5_2_000000016_000000000_DeepBlue_000_016.tif[13, 14, 15]\n",
      "opening img_BL_site46_5_2_000000015_000000000_DeepBlue_000_015.tif[15, 16, 17]\n",
      "opening img_BL_site46_5_2_000000017_000000000_DeepBlue_000_017.tif[13, 14, 15]\n",
      "opening img_BL_site46_5_2_000000015_000000000_DeepBlue_000_015.tif[15, 16, 17]\n",
      "opening img_BL_site46_5_2_000000017_000000000_DeepBlue_000_017.tif"
     ]
    }
   ],
   "source": [
    "# Check that tforms and pseudo-max-projections result in well aligned images with bead stacks\n",
    "\n",
    "# \n",
    "p = posnames[0]\n",
    "#print(tforms_z)\n",
    "bead_stk = pseudo_bead_stacks_byposition(p,md_pth, tforms_xyy, tforms_zz, zstart=14, k=1)"
   ]
  },
  {
   "cell_type": "code",
   "execution_count": null,
   "metadata": {},
   "outputs": [],
   "source": [
    "tforms_z"
   ]
  },
  {
   "cell_type": "code",
   "execution_count": 119,
   "metadata": {},
   "outputs": [],
   "source": [
    "stkshow(bead_stk)"
   ]
  },
  {
   "cell_type": "code",
   "execution_count": 95,
   "metadata": {},
   "outputs": [
    {
     "name": "stdout",
     "output_type": "stream",
     "text": [
      "opening img_BR_site67_7_1_000000028_000000000_DeepBlue_000_028.tif"
     ]
    }
   ],
   "source": [
    "db = md.stkread(Position=p, Channel='DeepBlue', groupby='acq')"
   ]
  },
  {
   "cell_type": "code",
   "execution_count": 100,
   "metadata": {},
   "outputs": [],
   "source": [
    "stkshow(db['hybe5_5'])"
   ]
  },
  {
   "cell_type": "code",
   "execution_count": null,
   "metadata": {},
   "outputs": [],
   "source": [
    "cstk_save_dir = '/scratch/hRedux_less_subset/codestacks/'\n",
    "\n",
    "if not os.path.exists(cstk_save_dir):\n",
    "    os.makedirs(cstk_save_dir)\n",
    "\n",
    "multi_z_wrapper(pos_subset[0])"
   ]
  }
 ],
 "metadata": {
  "kernelspec": {
   "display_name": "pyspots",
   "language": "python",
   "name": "pyspots"
  },
  "language_info": {
   "codemirror_mode": {
    "name": "ipython",
    "version": 3
   },
   "file_extension": ".py",
   "mimetype": "text/x-python",
   "name": "python",
   "nbconvert_exporter": "python",
   "pygments_lexer": "ipython3",
   "version": "3.6.5"
  }
 },
 "nbformat": 4,
 "nbformat_minor": 2
}
